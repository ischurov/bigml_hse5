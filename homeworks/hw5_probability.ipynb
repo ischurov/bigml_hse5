{
 "cells": [
  {
   "cell_type": "markdown",
   "metadata": {},
   "source": [
    "# Математика для машинного обучения\n",
    "## Домашнее задание №5\n",
    "\n",
    "_Автор задания: Илья Щуров_\n",
    "\n",
    "Подготовлено для программы «[Практический анализ данных и машинное обучение](https://cs.hse.ru/dpo/bigml)» (ФКН НИУ ВШЭ)."
   ]
  },
  {
   "cell_type": "markdown",
   "metadata": {},
   "source": [
    "Задание выполнил(а): *(впишите сюда фамилию и имя)*"
   ]
  },
  {
   "cell_type": "markdown",
   "metadata": {},
   "source": [
    "## Теория вероятностей"
   ]
  },
  {
   "cell_type": "markdown",
   "metadata": {},
   "source": [
    "### Задача 1\n",
    "Монетку подкинули три раза. Рассмотрим события $A=\\text{«в первый раз выпал орёл»}$ и $B=\\text{«выпала ровно одна решка»}$.\n",
    "\n",
    "1. Перечислить все элементарные исходы, которые есть в этом случайном эксперименте.\n",
    "2. Перечислить все элементарные исходы, благоприятствующие событиям $A$ и $B$.\n",
    "3. Найти вероятности $A$ и $B$.\n",
    "4. Перечислить все элементарные исходы, благоприятствующие событиями $A\\cap B$ и $A\\cup B$. Найти их вероятности.\n",
    "5. Найти $P(A|B)$ и $P(B|A)$.\n",
    "6. Являются ли эти события независиыми?"
   ]
  },
  {
   "cell_type": "markdown",
   "metadata": {},
   "source": [
    "### Задача 2\n",
    "Золотая Лихорадка — страшное, но относительно редкое заболевание: среди тысячи человек им болен в среднем один. Первые 20 лет после заражения болезнь никак не проявляется, но может быть выявлена с помощью специального теста. Тест очень хороший: он ошибается лишь в 5% случаев, то есть если тест сдаёт здоровый человек, то с вероятностью 95% тест покажет, что он здоров, и с вероятностью 5%, что он болен, и наоборот — если тест сдаёт заболевший человек, то тест с вероятностью 95% покажет, что он болен и с вероятностью 5%, что здоров. Случайно выбранный среди всей популяции человек сдаёт тест и — о, ужас! — тест говорит ему, что он болен. Какова вероятность того, что он действительно болен?\n",
    "\n",
    "**Подсказка.** Эта задача на формулу Байеса. Случайно выбранный человек может быть или болен (событие $H_1$), или здоров (событие $H_2$). Априорные вероятности каждого из этих событий (до сдачи теста) мы знаем. Тест может выдать результат «здоров» или «болен», и вероятности каждого результата зависят от того, здоров человек или болен на самом деле. Наша задача — найти вероятность того, что человек болен, при условии, что тест выдал результат «болен»."
   ]
  },
  {
   "cell_type": "markdown",
   "metadata": {},
   "source": [
    "### Задача 3\n",
    "Случайная величина $X$ принимает одно из двух значений: $-1$ и $9$, причём $P(X=-1)=0.2$. Найти математическое ожидание $EX$ и дисперсию $DX$."
   ]
  },
  {
   "cell_type": "markdown",
   "metadata": {},
   "source": [
    "### Задача 4\n",
    "Непрерывно распределённая случайная величина $X$ имеет плотность, график которой изображён на рисунке."
   ]
  },
  {
   "cell_type": "code",
   "execution_count": 1,
   "metadata": {},
   "outputs": [
    {
     "data": {
      "text/plain": [
       "[<matplotlib.lines.Line2D at 0x10fc15400>]"
      ]
     },
     "execution_count": 1,
     "metadata": {},
     "output_type": "execute_result"
    },
    {
     "data": {
      "image/png": "[encoded data removed]",
      "text/plain": [
       "<matplotlib.figure.Figure at 0x10fc154a8>"
      ]
     },
     "metadata": {},
     "output_type": "display_data"
    }
   ],
   "source": [
    "%matplotlib inline\n",
    "import matplotlib.pyplot as plt\n",
    "plt.ylim(0, 2)\n",
    "plt.plot(*zip([-2, 0], [-1, 0], [0, 1], [1, 0], [2, 0]), lw=2)"
   ]
  },
  {
   "cell_type": "markdown",
   "metadata": {},
   "source": [
    "Найти $P(X=0)$, $P(X<-1)$, $P(X<0)$, $P(X>0.5)$, $P(-0.5 < X < 0.5)$."
   ]
  },
  {
   "cell_type": "markdown",
   "metadata": {},
   "source": [
    "### Задача 5\n",
    "Пусть $X$ — равномерно распределенная на отрезке $[0, 1]$ случайная величина, а $x_1, …, x_n$ — выборка независимых значений этой случайной величины. Для $n=1, 2, 5, 10, 20, 100$, сгенерировать 1000 выборок, для каждой найти выборочное среднее и построить гистограмму распределения средних значений (для каждого $n$ — свою гистограмму). При построении гистограммы использовать параметр `normed=True`. На тех же графиках построить кривую нормального распределения с математическим ожиданием $0.5$ и стандартным отклонением $\\sqrt{\\frac{1}{12}}\\frac{1}{\\sqrt{n}}$. (Здесь $\\frac{1}{12}$ — это дисперсия равномерно распределённой случайной величины.) \n",
    "\n",
    "**Подсказка.** В `scipy.stats` есть объекты `uniform` и `norm`, соответствующие равномерному и нормальному распределению. Параметры нормального распределения задаются с помощью аргументов `loc`, соответствующего математическому ожиданию, и `scale`, соответствующего (в случае нормального нормального распределения!) стандартному отклонению."
   ]
  },
  {
   "cell_type": "markdown",
   "metadata": {},
   "source": [
    "### Задача 6 (**)\n",
    "Пусть имеется набор данных, состоящий из $n$ наблюдений (природа наблюдений нас сейчас не интересует — это могут быть числа, векторы или что угодно ещё). Мы хотим создать из этого набора данных новую выборку следующим образом: выбираем случайный элемент из исходного набора, добавляем в новую выборку, потом выбираем снова какой-нибудь случайный элмент из исходного набора и так несколько раз. Выбор очереденого элемента из исходного набора не меняет исходный набор: один и тот же элемент может быть выбран несколько раз (выборка с возвращением). Результат выбора очередного элемента не влияет на выбор следующих элементов. Пусть всего в новой выборке будет $n$ элементов (столько же, сколько исходных). Такая схема часто используется в машинном обучении для приёма, который называется bootstrapping.\n",
    "\n",
    "1. Какова вероятность того, что конкретный элемент (например, первый) из исходного набора попадёт в новую выборку на первое место (то есть при первом выборе элемента новой выборки)?\n",
    "2. Какова вероятность того, что конкретный элемент не попадёт в новую выборку на первое место (то есть при первом выборе элемента новой выборки)?\n",
    "3. Какова вероятность того, что конкретный элемент не попадёт в новую выборку ни на первое, ни на второе место?\n",
    "3. Какова вероятность того, что конкретный элемент не попадёт в новую выборку ни на первое, ни на второе, ни на третье место?\n",
    "4. Какова вероятность того, что конкретный элемент вообще не попадёт в новую выборку?\n",
    "5. Какова вероятность того, что конкретный элемент попадёт в новую выборку?\n",
    "6. Пусть $X_k$ — случайная величина, принимающая значение 1 в случае, если элемент исходного набора с номером $k$ попал в новую выборку, и значение 0 в противном случае. Найти $EX_k$.\n",
    "7. Пусть $X$ — случайная величина, равная числу элементов исходной выборки, которые не попали в новую выборку. Найти $EX$. (**Подсказка:** для любых случайных величин $U$ и $V$, матожидание их суммы равно сумме матожиданий: $E(U+V)=EU+EV$.)\n",
    "9. Пусть $Y$ — случайная величина, равная доле тех элементов исходной выборки, которые не попали в новую выборку. Найти $EY$. (**Подсказка:** Если $U=\\lambda V$, то $EU=\\lambda EV$.)\n",
    "10. (\\*) Найти предел $EY$ при $n$ стремящемся к бесконечности."
   ]
  },
  {
   "cell_type": "code",
   "execution_count": null,
   "metadata": {
    "collapsed": true
   },
   "outputs": [],
   "source": []
  }
 ],
 "metadata": {
  "kernelspec": {
   "display_name": "Python 3",
   "language": "python",
   "name": "python3"
  },
  "language_info": {
   "codemirror_mode": {
    "name": "ipython",
    "version": 3
   },
   "file_extension": ".py",
   "mimetype": "text/x-python",
   "name": "python",
   "nbconvert_exporter": "python",
   "pygments_lexer": "ipython3",
   "version": "3.6.1"
  },
  "toc": {
   "toc_cell": false,
   "toc_number_sections": false,
   "toc_section_display": "none",
   "toc_threshold": 6,
   "toc_window_display": false
  }
 },
 "nbformat": 4,
 "nbformat_minor": 1
}
